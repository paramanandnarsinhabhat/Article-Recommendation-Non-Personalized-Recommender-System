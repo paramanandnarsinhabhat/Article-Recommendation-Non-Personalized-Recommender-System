{
 "cells": [
  {
   "cell_type": "code",
   "execution_count": 1,
   "id": "a740f9ad",
   "metadata": {},
   "outputs": [
    {
     "data": {
      "text/html": [
       "<div>\n",
       "<style scoped>\n",
       "    .dataframe tbody tr th:only-of-type {\n",
       "        vertical-align: middle;\n",
       "    }\n",
       "\n",
       "    .dataframe tbody tr th {\n",
       "        vertical-align: top;\n",
       "    }\n",
       "\n",
       "    .dataframe thead th {\n",
       "        text-align: right;\n",
       "    }\n",
       "</style>\n",
       "<table border=\"1\" class=\"dataframe\">\n",
       "  <thead>\n",
       "    <tr style=\"text-align: right;\">\n",
       "      <th></th>\n",
       "      <th>user_id</th>\n",
       "      <th>article_id</th>\n",
       "      <th>rating</th>\n",
       "    </tr>\n",
       "  </thead>\n",
       "  <tbody>\n",
       "    <tr>\n",
       "      <th>0</th>\n",
       "      <td>1</td>\n",
       "      <td>456</td>\n",
       "      <td>1</td>\n",
       "    </tr>\n",
       "    <tr>\n",
       "      <th>1</th>\n",
       "      <td>1</td>\n",
       "      <td>2934</td>\n",
       "      <td>1</td>\n",
       "    </tr>\n",
       "    <tr>\n",
       "      <th>2</th>\n",
       "      <td>1</td>\n",
       "      <td>82</td>\n",
       "      <td>1</td>\n",
       "    </tr>\n",
       "    <tr>\n",
       "      <th>3</th>\n",
       "      <td>1</td>\n",
       "      <td>1365</td>\n",
       "      <td>1</td>\n",
       "    </tr>\n",
       "    <tr>\n",
       "      <th>4</th>\n",
       "      <td>1</td>\n",
       "      <td>221</td>\n",
       "      <td>1</td>\n",
       "    </tr>\n",
       "  </tbody>\n",
       "</table>\n",
       "</div>"
      ],
      "text/plain": [
       "   user_id  article_id  rating\n",
       "0        1         456       1\n",
       "1        1        2934       1\n",
       "2        1          82       1\n",
       "3        1        1365       1\n",
       "4        1         221       1"
      ]
     },
     "execution_count": 1,
     "metadata": {},
     "output_type": "execute_result"
    }
   ],
   "source": [
    "import pandas as pd\n",
    "# Load the dataset\n",
    "file_path = '/Users/paramanandbhat/Downloads/train-201102-092914.csv'\n",
    "data = pd.read_csv(file_path)\n",
    "\n",
    "# Display the first few rows of the dataset to understand its structure\n",
    "data.head()\n",
    "\n",
    "\n"
   ]
  },
  {
   "cell_type": "code",
   "execution_count": 2,
   "id": "f4163ed7",
   "metadata": {},
   "outputs": [
    {
     "name": "stdout",
     "output_type": "stream",
     "text": [
      "article_id\n",
      "580     1.833333\n",
      "1249    1.706897\n",
      "2781    1.700000\n",
      "1433    1.639344\n",
      "967     1.442623\n",
      "221     1.421875\n",
      "618     1.420000\n",
      "1755    1.407407\n",
      "456     1.391304\n",
      "2388    1.384615\n",
      "Name: rating, dtype: float64\n"
     ]
    }
   ],
   "source": [
    "# Total number of users\n",
    "total_users = data['user_id'].nunique()\n",
    "\n",
    "\n",
    "# Minimum number of ratings required (5% of total users)\n",
    "min_ratings_required = total_users * 0.05\n",
    "\n",
    "# Calculate the average rating for each article\n",
    "avg_rating_per_article = data.groupby('article_id')['rating'].mean()\n",
    "\n",
    "# Count the number of ratings for each article\n",
    "ratings_count_per_article = data.groupby('article_id')['rating'].count()\n",
    "\n",
    "# Filter articles that have at least 5% of total user ratings\n",
    "articles_with_min_ratings = ratings_count_per_article[ratings_count_per_article >= min_ratings_required]\n",
    "\n",
    "# Filter and sort the average ratings of these articles\n",
    "top_articles_q1 = avg_rating_per_article[articles_with_min_ratings.index].sort_values(ascending=False).head(10)\n",
    "\n",
    "print(top_articles_q1)\n"
   ]
  },
  {
   "cell_type": "code",
   "execution_count": null,
   "id": "1c0bb53c",
   "metadata": {},
   "outputs": [
    {
     "data": {
      "text/plain": [
       "'For Question 1, the top 10 articles based on the average rating, where each article is rated by at least 5% of the users, are as follows (article IDs along with their average ratings):\\n\\nArticle ID 580 - Average Rating: 1.83\\nArticle ID 1249 - Average Rating: 1.71\\nArticle ID 2781 - Average Rating: 1.70\\nArticle ID 1433 - Average Rating: 1.64\\nArticle ID 967 - Average Rating: 1.44\\nArticle ID 221 - Average Rating: 1.42\\nArticle ID 618 - Average Rating: 1.42\\nArticle ID 1755 - Average Rating: 1.41\\nArticle ID 456 - Average Rating: 1.39\\nArticle ID 2388 - Average Rating: 1.38'"
      ]
     },
     "execution_count": 3,
     "metadata": {},
     "output_type": "execute_result"
    }
   ],
   "source": [
    "''' the top 10 articles based on the average rating, where each article is rated by at least 5% of the users, are as follows (article IDs along with their average ratings):\n",
    "\n",
    "Article ID 580 - Average Rating: 1.83\n",
    "Article ID 1249 - Average Rating: 1.71\n",
    "Article ID 2781 - Average Rating: 1.70\n",
    "Article ID 1433 - Average Rating: 1.64\n",
    "Article ID 967 - Average Rating: 1.44\n",
    "Article ID 221 - Average Rating: 1.42\n",
    "Article ID 618 - Average Rating: 1.42\n",
    "Article ID 1755 - Average Rating: 1.41\n",
    "Article ID 456 - Average Rating: 1.39\n",
    "Article ID 2388 - Average Rating: 1.38'''"
   ]
  },
  {
   "cell_type": "code",
   "execution_count": 4,
   "id": "49ae22ae",
   "metadata": {},
   "outputs": [
    {
     "data": {
      "text/plain": [
       "article_id\n",
       "1433    61\n",
       "2781    60\n",
       "1249    58\n",
       "580     48\n",
       "2361    42\n",
       "1366    41\n",
       "2178    38\n",
       "2248    35\n",
       "1716    34\n",
       "1614    33\n",
       "Name: rating, dtype: int64"
      ]
     },
     "execution_count": 4,
     "metadata": {},
     "output_type": "execute_result"
    }
   ],
   "source": [
    "# For Question 2, we need to find the most read articles with an average rating above 1.5.\n",
    "# Filter articles with an average rating above 1.5\n",
    "articles_above_1_5_rating = avg_rating_per_article[avg_rating_per_article > 1.5]\n",
    "\n",
    "# Find the count of ratings for these articles\n",
    "most_read_articles_q2 = ratings_count_per_article[articles_above_1_5_rating.index].sort_values(ascending=False).head(10)\n",
    "\n",
    "\n",
    "most_read_articles_q2\n"
   ]
  },
  {
   "cell_type": "code",
   "execution_count": 6,
   "id": "2bb4c144",
   "metadata": {},
   "outputs": [
    {
     "data": {
      "text/plain": [
       "'For Question 2, the most read articles with an average rating above 1.5 are as follows (article IDs along with the number of times they were rated):\\n\\nArticle ID 1433 - Rated 61 times\\nArticle ID 2781 - Rated 60 times\\nArticle ID 1249 - Rated 58 times\\nArticle ID 580 - Rated 48 times\\nArticle ID 2361 - Rated 42 times\\nArticle ID 1366 - Rated 41 times\\nArticle ID 2178 - Rated 38 times\\nArticle ID 2248 - Rated 35 times\\nArticle ID 1716 - Rated 34 times\\nArticle ID 1614 - Rated 33 times\\n\\n'"
      ]
     },
     "execution_count": 6,
     "metadata": {},
     "output_type": "execute_result"
    }
   ],
   "source": [
    "'''For Question 2, the most read articles with an average rating above 1.5 are as follows (article IDs along with the number of times they were rated):\n",
    "\n",
    "Article ID 1433 - Rated 61 times\n",
    "Article ID 2781 - Rated 60 times\n",
    "Article ID 1249 - Rated 58 times\n",
    "Article ID 580 - Rated 48 times\n",
    "Article ID 2361 - Rated 42 times\n",
    "Article ID 1366 - Rated 41 times\n",
    "Article ID 2178 - Rated 38 times\n",
    "Article ID 2248 - Rated 35 times\n",
    "Article ID 1716 - Rated 34 times\n",
    "Article ID 1614 - Rated 33 times\n",
    "\n",
    "'''"
   ]
  },
  {
   "cell_type": "code",
   "execution_count": 7,
   "id": "4ffb02ff",
   "metadata": {},
   "outputs": [
    {
     "data": {
      "text/plain": [
       "article_id\n",
       "931     1.760760\n",
       "2697    1.747348\n",
       "1630    1.719069\n",
       "2779    1.712493\n",
       "2079    1.673545\n",
       "1867    1.666934\n",
       "937     1.661294\n",
       "129     1.660315\n",
       "2141    1.660315\n",
       "1806    1.656457\n",
       "Name: rating, dtype: float64"
      ]
     },
     "execution_count": 7,
     "metadata": {},
     "output_type": "execute_result"
    }
   ],
   "source": [
    "# , we use the weighted rating formula: W = (v/(v+m)) * R + (m/(v+m)) * C\n",
    "# Where:\n",
    "# W = weighted rating\n",
    "# R = average rating for the article\n",
    "# v = number of ratings for the article\n",
    "# m = minimum ratings required (5% of total users as used in Q1)\n",
    "# C = mean rating for all articles\n",
    "\n",
    "# Mean rating for all articles\n",
    "C = data['rating'].mean()\n",
    "\n",
    "# Apply the weighted rating formula\n",
    "weighted_ratings = ((ratings_count_per_article / (ratings_count_per_article + min_ratings_required)) * avg_rating_per_article) + ((min_ratings_required / (ratings_count_per_article + min_ratings_required)) * C)\n",
    "\n",
    "# Find the top 10 articles based on weighted rating\n",
    "top_articles_q3 = weighted_ratings.sort_values(ascending=False).head(10)\n",
    "\n",
    "top_articles_q3"
   ]
  },
  {
   "cell_type": "code",
   "execution_count": 8,
   "id": "6ff7410f",
   "metadata": {},
   "outputs": [
    {
     "data": {
      "text/plain": [
       "'For Question 3, using the weighted rating formula, the top 10 articles are as follows (article IDs along with their weighted ratings):\\n\\nArticle ID 931 - Weighted Rating: 1.76\\nArticle ID 2697 - Weighted Rating: 1.75\\nArticle ID 1630 - Weighted Rating: 1.72\\nArticle ID 2779 - Weighted Rating: 1.71\\nArticle ID 2079 - Weighted Rating: 1.67\\nArticle ID 1867 - Weighted Rating: 1.67\\nArticle ID 937 - Weighted Rating: 1.66\\nArticle ID 129 - Weighted Rating: 1.66\\nArticle ID 2141 - Weighted Rating: 1.66\\nArticle ID 1806 - Weighted Rating: 1.66'"
      ]
     },
     "execution_count": 8,
     "metadata": {},
     "output_type": "execute_result"
    }
   ],
   "source": [
    "''' using the weighted rating formula, the top 10 articles are as follows (article IDs along with their weighted ratings):\n",
    "\n",
    "Article ID 931 - Weighted Rating: 1.76\n",
    "Article ID 2697 - Weighted Rating: 1.75\n",
    "Article ID 1630 - Weighted Rating: 1.72\n",
    "Article ID 2779 - Weighted Rating: 1.71\n",
    "Article ID 2079 - Weighted Rating: 1.67\n",
    "Article ID 1867 - Weighted Rating: 1.67\n",
    "Article ID 937 - Weighted Rating: 1.66\n",
    "Article ID 129 - Weighted Rating: 1.66\n",
    "Article ID 2141 - Weighted Rating: 1.66\n",
    "Article ID 1806 - Weighted Rating: 1.66'''"
   ]
  },
  {
   "cell_type": "code",
   "execution_count": null,
   "id": "8302677d",
   "metadata": {},
   "outputs": [],
   "source": []
  }
 ],
 "metadata": {
  "kernelspec": {
   "display_name": "Python 3 (ipykernel)",
   "language": "python",
   "name": "python3"
  },
  "language_info": {
   "codemirror_mode": {
    "name": "ipython",
    "version": 3
   },
   "file_extension": ".py",
   "mimetype": "text/x-python",
   "name": "python",
   "nbconvert_exporter": "python",
   "pygments_lexer": "ipython3",
   "version": "3.11.4"
  }
 },
 "nbformat": 4,
 "nbformat_minor": 5
}
